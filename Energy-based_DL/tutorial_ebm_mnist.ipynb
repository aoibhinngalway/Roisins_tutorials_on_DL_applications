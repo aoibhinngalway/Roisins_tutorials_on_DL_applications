{
 "cells": [
  {
   "cell_type": "markdown",
   "id": "29b14f9a-495f-412c-b582-58d2984aaab4",
   "metadata": {},
   "source": [
    "# Tutorial on iterative image denoising with Langevine dynamics."
   ]
  },
  {
   "cell_type": "code",
   "execution_count": null,
   "id": "bc7f8681-f2c4-4db3-b09a-2cb6be1a991c",
   "metadata": {},
   "outputs": [],
   "source": [
    "# Author: Róisín Luo\n",
    "# Ref: https://uvadlc-notebooks.readthedocs.io/en/latest/tutorial_notebooks/tutorial8/Deep_Energy_Models.html"
   ]
  },
  {
   "cell_type": "markdown",
   "id": "8fd4afa1-8e21-4074-af44-d94f1fba4ebf",
   "metadata": {},
   "source": [
    "# Importing libraries"
   ]
  },
  {
   "cell_type": "code",
   "execution_count": 143,
   "id": "08a76a99-94b9-45df-a269-bcdbc0af643a",
   "metadata": {
    "tags": []
   },
   "outputs": [],
   "source": [
    "import sys\n",
    "import os\n",
    "import random\n",
    "import math\n",
    "\n",
    "import numpy as np\n",
    "\n",
    "\n",
    "import matplotlib\n",
    "import matplotlib.pyplot as plt\n",
    "from matplotlib import cm \n",
    "from matplotlib import patches\n",
    "#from matplotlib.colors import to_rgb\n",
    "#from mpl_toolkits.mplot3d.axes3d import Axes3D\n",
    "#from mpl_toolkits.mplot3d import proj3d\n",
    "\n",
    "from tqdm import tqdm\n",
    "\n",
    "#import csv\n",
    "#import pandas as pd\n",
    "\n",
    "import torch\n",
    "import torch.nn as nn\n",
    "import torch.nn.functional as F\n",
    "\n",
    "import torchvision\n",
    "from torchvision import transforms\n",
    "from torchvision.utils import make_grid\n",
    "\n",
    "from PIL import Image\n",
    "\n",
    "from atomicwrites import atomic_write #we must guarantee the automicity of write operation.\n",
    "import pickle\n",
    "\n",
    "%matplotlib inline"
   ]
  },
  {
   "cell_type": "markdown",
   "id": "e25a3657-4558-40a7-baff-26ad2a1a7df3",
   "metadata": {},
   "source": [
    "# Find GPU"
   ]
  },
  {
   "cell_type": "code",
   "execution_count": 144,
   "id": "14df29e2-3d7e-49f8-b535-91a84aca3df4",
   "metadata": {
    "tags": []
   },
   "outputs": [],
   "source": [
    "def find_gpu():\n",
    "\n",
    "    device = torch.device('cpu')\n",
    "    \n",
    "    if torch.cuda.is_available():\n",
    "        print('# of CUDA devices: ', torch.cuda.device_count())\n",
    "        \n",
    "        for i in range(torch.cuda.device_count()):\n",
    "            print()\n",
    "            print(torch.cuda.get_device_name(i))\n",
    "            print('CUDA memory Usage:')\n",
    "            print('Allocated:', round(torch.cuda.memory_allocated(i)/1024**3,1), 'GB')\n",
    "            print('Cached:   ', round(torch.cuda.memory_reserved(i)/1024**3,1), 'GB')\n",
    "    \n",
    "        device = torch.device('cuda')\n",
    "        \n",
    "    # MacOS\n",
    "    elif hasattr(torch, \"backends\") and \\\n",
    "          hasattr(torch.backends, \"mps\") and \\\n",
    "          torch.backends.mps.is_available():\n",
    "                \n",
    "        device = torch.device('mps')\n",
    " \n",
    "    print()\n",
    "    print(\"Detected GPU device is: \", device)\n",
    "    \n",
    "    return device"
   ]
  },
  {
   "cell_type": "code",
   "execution_count": 145,
   "id": "c3a97992-3b94-4345-afaa-93bdcffb9435",
   "metadata": {
    "tags": []
   },
   "outputs": [
    {
     "name": "stdout",
     "output_type": "stream",
     "text": [
      "\n",
      "Detected GPU device is:  mps\n"
     ]
    },
    {
     "data": {
      "text/plain": [
       "device(type='mps')"
      ]
     },
     "execution_count": 145,
     "metadata": {},
     "output_type": "execute_result"
    }
   ],
   "source": [
    "device = find_gpu()\n",
    "device"
   ]
  },
  {
   "cell_type": "markdown",
   "id": "7fd2c480-e331-4ac4-9c7d-21763f6796bc",
   "metadata": {},
   "source": [
    "# Load dataset"
   ]
  },
  {
   "cell_type": "code",
   "execution_count": 150,
   "id": "94751b02-cb1e-4a3e-bfd6-baf224583c95",
   "metadata": {
    "tags": []
   },
   "outputs": [],
   "source": [
    "def plot_images(images, num_cols = 8, num_rows = 2):\n",
    "    \n",
    "    assert len(images) > num_cols * num_rows\n",
    "    \n",
    "    images = images[0: num_cols * num_rows]\n",
    "    \n",
    "    images = (images + 1) / 2\n",
    "\n",
    "    #create grid with size by nrows x ncols\n",
    "    img_grid = make_grid(tensor = images, \n",
    "                     nrow = num_cols, \n",
    "                     padding = 1, \n",
    "                     pad_value = 1)\n",
    "\n",
    "    #conver to channel last\n",
    "    img_grid = img_grid.permute(1,2,0)\n",
    "\n",
    "    plt.figure(figsize=(16, 16))\n",
    "    plt.imshow(img_grid)\n",
    "    plt.axis('off')\n",
    "    plt.show()   "
   ]
  },
  {
   "cell_type": "code",
   "execution_count": 151,
   "id": "ed84368b-7764-42b3-868b-6766e87354a7",
   "metadata": {
    "tags": []
   },
   "outputs": [],
   "source": [
    "transform = transforms.Compose([transforms.ToTensor(),\n",
    "                                transforms.Normalize((0.5,), (0.5,)) #to [-1,+1]\n",
    "                               ])\n",
    "\n",
    "dataset = torchvision.datasets.MNIST(root=\"datasets\", \n",
    "                                       train=True, \n",
    "                                       transform=transform, \n",
    "                                       download=True)\n",
    "\n",
    "\n",
    "dataloader = torch.utils.data.DataLoader(dataset, \n",
    "                               batch_size=128, \n",
    "                               shuffle=True,  \n",
    "                               #drop_last=True,  \n",
    "                               #num_workers=4, \n",
    "                               #pin_memory=True\n",
    "                            )"
   ]
  },
  {
   "cell_type": "code",
   "execution_count": 152,
   "id": "24f7966e-3a67-4255-9d6a-0a0134413b1e",
   "metadata": {
    "tags": []
   },
   "outputs": [
    {
     "data": {
      "text/plain": [
       "torch.Size([128, 1, 28, 28])"
      ]
     },
     "execution_count": 152,
     "metadata": {},
     "output_type": "execute_result"
    }
   ],
   "source": [
    "x,y = next(iter(dataloader))\n",
    "x.shape"
   ]
  },
  {
   "cell_type": "code",
   "execution_count": 153,
   "id": "ac13ceb9-a066-41dd-959f-38169efe27f9",
   "metadata": {
    "tags": []
   },
   "outputs": [
    {
     "data": {
      "image/png": "[encoded data removed]",
      "text/plain": [
       "<Figure size 1600x1600 with 1 Axes>"
      ]
     },
     "metadata": {},
     "output_type": "display_data"
    }
   ],
   "source": [
    "plot_images(x)"
   ]
  },
  {
   "cell_type": "markdown",
   "id": "7372d682-3a41-449f-b407-4c08e5eba705",
   "metadata": {},
   "source": [
    "# Build energy model (simple)"
   ]
  },
  {
   "cell_type": "code",
   "execution_count": 154,
   "id": "1af604ab-7b55-488f-86da-dcc441b6ddbc",
   "metadata": {
    "tags": []
   },
   "outputs": [],
   "source": [
    "#we hope the energy model is smooth.\n",
    "class Swish(nn.Module):\n",
    "    def forward(self, x):\n",
    "        return x * torch.sigmoid(x)\n",
    "\n",
    "#As standard practice/convention, the outputs represent the negative energy.\n",
    "class EBMSimple(nn.Module):\n",
    "\n",
    "    def __init__(self, **kwargs):\n",
    "        super().__init__()\n",
    "        \n",
    "        \n",
    "        self.net = nn.Sequential(\n",
    "            nn.Conv2d(1, 32, kernel_size=5, stride=2, padding=4),\n",
    "            Swish(),\n",
    "            \n",
    "            nn.Conv2d(32, 64, kernel_size=3, stride=2, padding=1),\n",
    "            Swish(),\n",
    "            \n",
    "            nn.Conv2d(64, 32, kernel_size=3, stride=2, padding=1),\n",
    "            Swish(),\n",
    "            \n",
    "            nn.Conv2d(32, 32, kernel_size=3, stride=2, padding=1),\n",
    "            Swish(),\n",
    "            \n",
    "            nn.Flatten(),\n",
    "            nn.Linear(128, 100),\n",
    "            Swish(),\n",
    "            \n",
    "            nn.Linear(100, 1)\n",
    "        )\n",
    "    \n",
    "\n",
    "    def forward(self, x):\n",
    "        x = self.net(x)\n",
    "        return x"
   ]
  },
  {
   "cell_type": "code",
   "execution_count": 155,
   "id": "afc1853f-a223-4af0-b8eb-16c0006a9eef",
   "metadata": {
    "tags": []
   },
   "outputs": [
    {
     "name": "stdout",
     "output_type": "stream",
     "text": [
      "EBMSimple(\n",
      "  (net): Sequential(\n",
      "    (0): Conv2d(1, 32, kernel_size=(5, 5), stride=(2, 2), padding=(4, 4))\n",
      "    (1): Swish()\n",
      "    (2): Conv2d(32, 64, kernel_size=(3, 3), stride=(2, 2), padding=(1, 1))\n",
      "    (3): Swish()\n",
      "    (4): Conv2d(64, 32, kernel_size=(3, 3), stride=(2, 2), padding=(1, 1))\n",
      "    (5): Swish()\n",
      "    (6): Conv2d(32, 32, kernel_size=(3, 3), stride=(2, 2), padding=(1, 1))\n",
      "    (7): Swish()\n",
      "    (8): Flatten(start_dim=1, end_dim=-1)\n",
      "    (9): Linear(in_features=128, out_features=100, bias=True)\n",
      "    (10): Swish()\n",
      "    (11): Linear(in_features=100, out_features=1, bias=True)\n",
      "  )\n",
      ")\n",
      "torch.Size([10, 1])\n",
      "tensor([[0.0904],\n",
      "        [0.0904],\n",
      "        [0.0907],\n",
      "        [0.0905],\n",
      "        [0.0906],\n",
      "        [0.0905],\n",
      "        [0.0906],\n",
      "        [0.0905],\n",
      "        [0.0904],\n",
      "        [0.0902]], grad_fn=<AddmmBackward0>)\n"
     ]
    }
   ],
   "source": [
    "model = EBMSimple()\n",
    "print(model)\n",
    "\n",
    "x = torch.rand(10, 1, 28, 28)\n",
    "x = model(x)\n",
    "\n",
    "print(x.shape)\n",
    "print(x)"
   ]
  },
  {
   "cell_type": "markdown",
   "id": "6b33b1d3-d21a-4527-b40e-43534abde76e",
   "metadata": {},
   "source": [
    "# Build energy model (resnet based)"
   ]
  },
  {
   "cell_type": "code",
   "execution_count": 156,
   "id": "86eab81c-a587-4737-97bb-5ac197650d57",
   "metadata": {
    "tags": []
   },
   "outputs": [],
   "source": [
    "#we hope the energy model is smooth.\n",
    "class Swish(nn.Module):\n",
    "    def forward(self, x):\n",
    "        return x * torch.sigmoid(x)\n",
    "\n",
    "#As standard practice/convention, the outputs represent the negative energy.\n",
    "class EBMResNet(nn.Module):\n",
    "\n",
    "    def __init__(self, **kwargs):\n",
    "        super().__init__()\n",
    "        \n",
    "        self.decoder = torchvision.models.resnet18(pretrained = True)\n",
    "        self.decoder.fc = nn.Identity()\n",
    "        \n",
    "        self.adapter = nn.Sequential(\n",
    "            nn.Linear(512, 100),\n",
    "            Swish(),\n",
    "            \n",
    "            nn.Linear(100, 1),\n",
    "            \n",
    "        )\n",
    "    \n",
    "\n",
    "    def forward(self, x):\n",
    "        #self.decoder.eval()\n",
    "        x = self.decoder(x)\n",
    "        x = self.adapter(x)\n",
    "        return x"
   ]
  },
  {
   "cell_type": "code",
   "execution_count": 9,
   "id": "3c7aaa7e-1cd6-4dc6-94fd-a02adbe5a38e",
   "metadata": {
    "tags": []
   },
   "outputs": [],
   "source": [
    "#model = EBMResNet()\n",
    "#x = torch.rand(10, 3, 32, 32)\n",
    "#x = model(x)\n",
    "#\n",
    "#print(x.shape)"
   ]
  },
  {
   "cell_type": "markdown",
   "id": "4c668cee-3452-4aeb-afe0-7a35e3ffc306",
   "metadata": {},
   "source": [
    "# Sampler for training and generating"
   ]
  },
  {
   "cell_type": "code",
   "execution_count": 157,
   "id": "40a4eb75-04b4-4478-9fbc-46db6f6881ee",
   "metadata": {
    "tags": []
   },
   "outputs": [],
   "source": [
    "class EBMSampler:\n",
    "    def __init__(self, \n",
    "               #model,       #EBM\n",
    "               image_size,  #image size\n",
    "               sample_size, #sampling batch size.\n",
    "               buffer_len = 8192):\n",
    "        \n",
    "        #self.model = model\n",
    "        self.buffer_len = buffer_len\n",
    "        self.image_size = image_size\n",
    "        self.sample_size = sample_size\n",
    "        self.sample_shape = (1,) + image_size\n",
    "        \n",
    "        self.buffer = [torch.rand((1, ) + image_size) * 2 - 1] * self.buffer_len\n",
    "    \n",
    "    #sample a batch for training.\n",
    "    def train_sample(self, \n",
    "                   model,\n",
    "                   num_new = None,\n",
    "                   iters = 60, step_size = 10, device = torch.device(\"cpu\")):\n",
    "        \n",
    "        if num_new is None:\n",
    "            num_new = np.random.binomial(self.sample_size, 0.05)\n",
    "        \n",
    "        if num_new == 0:\n",
    "            num_new = 1\n",
    "        \n",
    "        num_old = self.sample_size - num_new\n",
    "                \n",
    "        new_images = torch.rand((num_new,) + self.image_size) * 2 - 1\n",
    "        \n",
    "        old_images = random.choices(self.buffer, k = num_old)\n",
    "        old_images = torch.cat(old_images, dim = 0)\n",
    "        \n",
    "        images = torch.cat([new_images, old_images], dim = 0)\n",
    "        images = images.detach().to(device)\n",
    "    \n",
    "        # Perform MCMC sampling\n",
    "        images = self.langevine_dynamics_sample(model,\n",
    "                             images, \n",
    "                             iters = iters, \n",
    "                             step_size = step_size, \n",
    "                             device = device)\n",
    "\n",
    "        self.buffer = list(images.to(torch.device(\"cpu\")).chunk(self.sample_size, dim=0)) + self.buffer\n",
    "        self.buffer = self.buffer[:self.buffer_len]\n",
    "        \n",
    "        return images\n",
    "    \n",
    "    #MCMC sampling with Langevine dynamics.\n",
    "    def langevine_dynamics_sample(self, \n",
    "               model,\n",
    "               images, \n",
    "               iters = 60, \n",
    "               step_size = 10, \n",
    "               return_images_per_step = False,\n",
    "               device = torch.device(\"cpu\")):\n",
    "        \n",
    "        model.to(device)\n",
    "        images = images.to(device)\n",
    "  \n",
    "        images.requires_grad = True\n",
    "        \n",
    "        \n",
    "        noise = torch.randn(images.shape, device = images.device)\n",
    "        \n",
    "        images_per_step = []\n",
    "\n",
    "        \n",
    "        for _ in range(iters):\n",
    "      \n",
    "            noise.normal_(0, 0.005)\n",
    "            images.data.add_(noise.data)\n",
    "            images.data.clamp_(min=-1.0, max=1.0)\n",
    "\n",
    "            outputs = -model(images) \n",
    "            outputs = outputs.sum()\n",
    "            \n",
    "            #compute gradients wrt images.\n",
    "            outputs.backward()\n",
    "            \n",
    "            #gradient clamp.\n",
    "            images.grad.data.clamp_(-0.03, 0.03) \n",
    "\n",
    "            # Towards the direction with low-energy\n",
    "            images.data.add_(-step_size * images.grad.data)\n",
    "            \n",
    "            images.grad.detach_()\n",
    "            images.grad.zero_()\n",
    "            images.data.clamp_(min=-1.0, max=1.0)\n",
    "\n",
    "            if return_images_per_step:\n",
    "                images_per_step.append(images.clone().detach())\n",
    "\n",
    "\n",
    "        if return_images_per_step:\n",
    "            return torch.stack(images_per_step, dim=0)\n",
    "        else:\n",
    "            return images"
   ]
  },
  {
   "cell_type": "code",
   "execution_count": 158,
   "id": "410a8b33-d411-4bc5-9dfe-0a7bbe02803b",
   "metadata": {
    "tags": []
   },
   "outputs": [
    {
     "data": {
      "text/plain": [
       "torch.Size([10, 1, 28, 28])"
      ]
     },
     "execution_count": 158,
     "metadata": {},
     "output_type": "execute_result"
    }
   ],
   "source": [
    "model = EBMSimple()\n",
    "sampler = EBMSampler(image_size = (1, 28, 28), sample_size = 10)\n",
    "\n",
    "model.eval()\n",
    "for p in model.parameters():\n",
    "    p.requires_grad = False\n",
    "    \n",
    "images = sampler.train_sample(model = model, device = device)\n",
    "images.shape"
   ]
  },
  {
   "cell_type": "markdown",
   "id": "02b1bb88-c3d4-4c29-b616-940061b37816",
   "metadata": {},
   "source": [
    "# Training energy-based model for one epoch"
   ]
  },
  {
   "cell_type": "code",
   "execution_count": 159,
   "id": "bed123d9-4001-46aa-b674-d51cf459541b",
   "metadata": {
    "tags": []
   },
   "outputs": [],
   "source": [
    "%matplotlib inline\n",
    "\n",
    "#from IPython.display import display, clear_output\n",
    "from IPython import display\n",
    "\n",
    "def EBM_train_one_epoch(\n",
    "          model, \n",
    "          device, \n",
    "          dataloader, \n",
    "          optimizer, \n",
    "          epoch,\n",
    "          sampler,\n",
    "          sampler_iters = 60,\n",
    "          sampler_step_size = 10,\n",
    "          alpha = 0.2, #regularization weight.\n",
    "          max_batches = None):\n",
    "    \n",
    "    # Enable gradient computing\n",
    "    model.to(device)\n",
    "    model.train()\n",
    "    \n",
    "    if max_batches is None:\n",
    "        max_batches = len(dataloader)\n",
    "        \n",
    "    #averaged loss in current epoch.\n",
    "    epoch_loss = 0.0\n",
    "    total_loss_ = 0.0\n",
    "    \n",
    "    #contrastive divergence\n",
    "    epoch_cdiv = 0.0\n",
    "    total_cdiv_ = 0.0\n",
    "    \n",
    "    #regularization\n",
    "    epoch_reg = 0.0\n",
    "    total_reg_ = 0.0\n",
    "    \n",
    "    \n",
    "    for batch_idx, batch in enumerate(dataloader, 1):\n",
    "        \n",
    "        real_images, _ = batch\n",
    "        \n",
    "        real_images = real_images.to(device)\n",
    "      \n",
    "        #simple data augmentation.\n",
    "        noise = torch.randn_like(real_images) * 0.005\n",
    "        #noise = torch.randn_like(real_images) * math.sqrt(eta)\n",
    "        \n",
    "        real_images.add_(noise).clamp_(min=-1.0, max=1.0)\n",
    "        \n",
    "        fake_images = sampler.train_sample(model = model,\n",
    "                                         iters = sampler_iters, \n",
    "                                         step_size = sampler_step_size, \n",
    "                                         device = device)\n",
    "\n",
    "        images = torch.cat([real_images, fake_images], dim = 0)\n",
    "\n",
    "        optimizer.zero_grad()\n",
    "\n",
    "        #model outputs negative energy.\n",
    "        outputs = -model(images)\n",
    "        \n",
    "        real_outputs, fake_outputs = outputs.chunk(2, dim = 0)\n",
    "        \n",
    "        #computing batch loss.\n",
    "        \n",
    "        #we hope the minimum energy close to zero.\n",
    "        batch_reg = alpha * (real_outputs**2 + fake_outputs**2).mean()        \n",
    "        batch_cdiv = real_outputs.mean() - fake_outputs.mean()\n",
    "        batch_loss = batch_reg + batch_cdiv\n",
    "        \n",
    "        #computing gradients\n",
    "        batch_loss.backward()\n",
    "\n",
    "        #update weights.\n",
    "        optimizer.step()\n",
    "        \n",
    "        #update statistics\n",
    "        total_reg_ += batch_reg\n",
    "        total_cdiv_ += batch_cdiv\n",
    "        total_loss_ += batch_loss\n",
    "        \n",
    "        epoch_reg = total_reg_ / batch_idx\n",
    "        epoch_cdiv = total_cdiv_ / batch_idx\n",
    "        epoch_loss = total_loss_ / batch_idx\n",
    "        \n",
    "        \n",
    "        #Updating training displays.\n",
    "        display.clear_output(wait=True)\n",
    "        \n",
    "        display.display('Epoch {} [{}/{} ({:.0f}%)]'.format(\n",
    "                    epoch, batch_idx, \n",
    "                    len(dataloader), \n",
    "                    100. * (batch_idx / len(dataloader))))\n",
    "        \n",
    "        display.display('* regularization batch {:.6f} epoch {:.6f}'.format(\n",
    "                    batch_reg, epoch_reg))\n",
    "        \n",
    "        display.display('* contrastive divergence batch {:.6f} epoch {:.6f}'.format(\n",
    "                    batch_cdiv, epoch_cdiv))\n",
    "        \n",
    "        display.display('* loss batch {:.6f} epoch {:.6f}'.format(\n",
    "                    batch_loss, epoch_loss))\n",
    "        \n",
    "        if batch_idx > max_batches:\n",
    "            break\n",
    "    \n",
    "    return epoch_reg, epoch_cdiv, epoch_loss"
   ]
  },
  {
   "cell_type": "code",
   "execution_count": 160,
   "id": "1c6143a4-8d33-468f-8ea4-a0ade7001d08",
   "metadata": {
    "tags": []
   },
   "outputs": [
    {
     "name": "stdout",
     "output_type": "stream",
     "text": [
      "\n",
      "Detected GPU device is:  mps\n",
      "mps\n"
     ]
    }
   ],
   "source": [
    "device = find_gpu()\n",
    "print(device)"
   ]
  },
  {
   "cell_type": "code",
   "execution_count": 161,
   "id": "b7cb0734-9891-455d-8ad7-23c938e0fe53",
   "metadata": {
    "tags": []
   },
   "outputs": [],
   "source": [
    "batch_size = 128\n",
    "model = EBMSimple()\n",
    "sampler = EBMSampler(image_size = (1, 28, 28), sample_size = batch_size)"
   ]
  },
  {
   "cell_type": "code",
   "execution_count": 162,
   "id": "564ce093-93e0-4b27-be38-0a08bfc8f837",
   "metadata": {
    "tags": []
   },
   "outputs": [],
   "source": [
    "dataloader = torch.utils.data.DataLoader(dataset, \n",
    "                               batch_size=batch_size, \n",
    "                               shuffle=True,  \n",
    "                               #drop_last=True,  \n",
    "                               #num_workers=4, \n",
    "                               #pin_memory=True\n",
    "                            )"
   ]
  },
  {
   "cell_type": "code",
   "execution_count": 163,
   "id": "3d521138-7d58-431e-9b86-5577a13680ae",
   "metadata": {
    "tags": []
   },
   "outputs": [],
   "source": [
    "#for Adam the learning rate \n",
    "#typically less than 0.001 for stabability.\n",
    "learning_rate = 0.001\n",
    "\n",
    "\n",
    "optimizer = torch.optim.Adam(\n",
    "                        model.parameters(), \n",
    "                        lr = learning_rate,\n",
    "                        betas = (0.99, 0.999),\n",
    "                        #momentum = 0.9, \n",
    "                        #weight_decay = 5e-4\n",
    "                      )\n",
    "\n",
    "scheduler = torch.optim.lr_scheduler.StepLR(optimizer, 1, gamma=0.97) # Exponential decay over epochs"
   ]
  },
  {
   "cell_type": "code",
   "execution_count": 61,
   "id": "9bf975f4-2402-4544-b3a3-e3f0888f3c5b",
   "metadata": {
    "tags": []
   },
   "outputs": [
    {
     "data": {
      "text/plain": [
       "'Epoch 1 [469/469 (100%)]'"
      ]
     },
     "metadata": {},
     "output_type": "display_data"
    },
    {
     "data": {
      "text/plain": [
       "'* regularization batch 0.000214 epoch 0.012221'"
      ]
     },
     "metadata": {},
     "output_type": "display_data"
    },
    {
     "data": {
      "text/plain": [
       "'* contrastive divergence batch 0.010302 epoch -0.016724'"
      ]
     },
     "metadata": {},
     "output_type": "display_data"
    },
    {
     "data": {
      "text/plain": [
       "'* loss batch 0.010516 epoch -0.004503'"
      ]
     },
     "metadata": {},
     "output_type": "display_data"
    }
   ],
   "source": [
    "epoch_reg, epoch_cdiv, epoch_loss = EBM_train_one_epoch(\n",
    "          model, \n",
    "          device, \n",
    "          dataloader, \n",
    "          optimizer, \n",
    "          epoch = 1,\n",
    "          sampler = sampler,\n",
    "          sampler_iters = 60,\n",
    "          sampler_step_size = 10,\n",
    "          alpha = 0.2, \n",
    "          max_batches = None)"
   ]
  },
  {
   "cell_type": "markdown",
   "id": "6d4ef482-2b1a-497d-a9c0-0d898d86928c",
   "metadata": {},
   "source": [
    "# Save and load model from disk"
   ]
  },
  {
   "cell_type": "code",
   "execution_count": 164,
   "id": "db2b69ef-bcab-4d4f-b606-c195b5c4528b",
   "metadata": {
    "tags": []
   },
   "outputs": [],
   "source": [
    "import os\n",
    "\n",
    "def save_model(model, model_path):\n",
    "    \n",
    "    save_path = os.path.normpath(os.path.dirname(model_path)).rstrip(os.path.sep)\n",
    "        \n",
    "    if not os.path.exists(save_path):\n",
    "        os.makedirs(save_path)\n",
    "        \n",
    "    print(\"Save model weights to: \", model_path)\n",
    "    torch.save(model.state_dict(), model_path)  "
   ]
  },
  {
   "cell_type": "code",
   "execution_count": 165,
   "id": "9b0bf4e6-593b-41d3-8df9-24a9eb8342a8",
   "metadata": {
    "tags": []
   },
   "outputs": [
    {
     "name": "stdout",
     "output_type": "stream",
     "text": [
      "Save model weights to:  models/ebm_simple.pth\n"
     ]
    }
   ],
   "source": [
    "save_model(model, \"models/ebm_simple.pth\")"
   ]
  },
  {
   "cell_type": "code",
   "execution_count": 166,
   "id": "7ecb2c7f-e34e-4d72-bf9b-f1bf95cc4fa5",
   "metadata": {
    "tags": []
   },
   "outputs": [],
   "source": [
    "def load_model(model_path, device):\n",
    "    model = EBMSimple()\n",
    "    \n",
    "    if os.path.exists(model_path):\n",
    "        #re-loading\n",
    "        model.load_state_dict(torch.load(model_path, map_location = device)) \n",
    "        print(\"Loaded model weights from: \", model_path)\n",
    "    else:\n",
    "        print(\"Model weights not found.\")\n",
    "        \n",
    "    return model"
   ]
  },
  {
   "cell_type": "code",
   "execution_count": 167,
   "id": "4184a5c4-b013-4ac7-b8c5-725bd83285bf",
   "metadata": {
    "tags": []
   },
   "outputs": [
    {
     "name": "stdout",
     "output_type": "stream",
     "text": [
      "Loaded model weights from:  models/ebm_simple.pth\n"
     ]
    }
   ],
   "source": [
    "model = load_model(\"models/ebm_simple.pth\", device)"
   ]
  },
  {
   "cell_type": "markdown",
   "id": "890cbd89-b865-47bd-8bd6-0916c343773d",
   "metadata": {},
   "source": [
    "# Generate samples"
   ]
  },
  {
   "cell_type": "code",
   "execution_count": 168,
   "id": "9bf1fd8e-e731-43c6-93d5-b3f1821c809f",
   "metadata": {
    "tags": []
   },
   "outputs": [],
   "source": [
    "def generate_samples(model, \n",
    "                     sampler,\n",
    "                     iters = 60,\n",
    "                     step_size = 10,\n",
    "                     num_samples = 16, \n",
    "                     image_size = (1, 28, 28),\n",
    "                     device = torch.device(\"cpu\")):\n",
    "    model.eval()\n",
    "    model.to(device)\n",
    "\n",
    "    for p in model.parameters():\n",
    "        p.requires_grad = False\n",
    "\n",
    "    \n",
    "    images = torch.rand((16,) + image_size) * 2 - 1\n",
    "\n",
    "    images = sampler.langevine_dynamics_sample( \n",
    "               model,\n",
    "               images, \n",
    "               iters = iters, \n",
    "               step_size = step_size, \n",
    "               return_images_per_step = False,\n",
    "               device = device)\n",
    "\n",
    "    for p in model.parameters():\n",
    "        p.requires_grad = True\n",
    "        \n",
    "    images = images.cpu().detach()\n",
    "    #images.shape\n",
    "    \n",
    "    #visualize\n",
    "    images = images[0:16]\n",
    "\n",
    "    images = (images + 1) / 2\n",
    "\n",
    "    #create grid with size by nrows x ncols\n",
    "    img_grid = make_grid(tensor = images, \n",
    "                     nrow = 8, \n",
    "                     padding = 1, \n",
    "                     pad_value = 1)\n",
    "\n",
    "    #conver to channel last\n",
    "    img_grid = img_grid.permute(1,2,0)\n",
    "\n",
    "    plt.figure(figsize=(16, 16))\n",
    "    plt.imshow(img_grid)\n",
    "    plt.axis('off')\n",
    "    plt.show()   "
   ]
  },
  {
   "cell_type": "code",
   "execution_count": 169,
   "id": "9756bc39-d839-40a8-a135-d01216f61cba",
   "metadata": {
    "tags": []
   },
   "outputs": [
    {
     "data": {
      "image/png": "[encoded data removed]",
      "text/plain": [
       "<Figure size 1600x1600 with 1 Axes>"
      ]
     },
     "metadata": {},
     "output_type": "display_data"
    }
   ],
   "source": [
    "generate_samples(model, \n",
    "                 sampler,\n",
    "                 iters = 50,\n",
    "                 step_size = 10,\n",
    "                 num_samples = 16, \n",
    "                 image_size = (1, 28, 28),\n",
    "                 device = device)"
   ]
  },
  {
   "cell_type": "markdown",
   "id": "4105d3a4-4dcb-49b3-aefe-d91aacde9d20",
   "metadata": {},
   "source": [
    "# Complete training"
   ]
  },
  {
   "cell_type": "code",
   "execution_count": 75,
   "id": "32137bc0-61ce-4410-ba3a-276ca109eef4",
   "metadata": {
    "tags": []
   },
   "outputs": [],
   "source": [
    "def EBM_train(model, \n",
    "          device, \n",
    "          dataloader, \n",
    "          optimizer,\n",
    "          epochs,\n",
    "          sampler,\n",
    "          sampler_iters = 60,\n",
    "          sampler_step_size = 10,\n",
    "          alpha = 0.2, #regularization weight.\n",
    "          scheduler = None,\n",
    "          max_batches = None):\n",
    "    \n",
    "    #if model_path is not None and not os.path.exists(model_path):\n",
    "    #    os.makedirs(model_path)\n",
    "    \n",
    "    loss_hist = []    \n",
    "    reg_hist = []\n",
    "    cdiv_hist = []\n",
    "    \n",
    "    for epoch in range(1, epochs + 1):\n",
    "        \n",
    "        epoch_reg, epoch_cdiv, epoch_loss = EBM_train_one_epoch(\n",
    "          model = model, \n",
    "          device = device, \n",
    "          dataloader = dataloader, \n",
    "          optimizer = optimizer, \n",
    "          epoch = epoch,\n",
    "          sampler = sampler,\n",
    "          sampler_iters = sampler_iters,\n",
    "          sampler_step_size = sampler_step_size,\n",
    "          alpha = alpha, \n",
    "          max_batches = max_batches)\n",
    "    \n",
    "        if scheduler:\n",
    "            #adjusting LR is necessary\n",
    "            scheduler.step()\n",
    "            \n",
    "        loss_hist.append(epoch_loss)\n",
    "        reg_hist.append(epoch_reg)\n",
    "        cdiv_hist.append(epoch_cdiv)\n",
    "           \n",
    "    return reg_hist, cdiv_hist, loss_hist"
   ]
  },
  {
   "cell_type": "code",
   "execution_count": 81,
   "id": "5901cb05-bec5-45b7-ba35-1772d02d8f25",
   "metadata": {
    "tags": []
   },
   "outputs": [
    {
     "data": {
      "text/plain": [
       "'Epoch 2 [127/469 (27%)]'"
      ]
     },
     "metadata": {},
     "output_type": "display_data"
    },
    {
     "data": {
      "text/plain": [
       "'* regularization batch 0.000421 epoch 0.000440'"
      ]
     },
     "metadata": {},
     "output_type": "display_data"
    },
    {
     "data": {
      "text/plain": [
       "'* contrastive divergence batch 0.020891 epoch 0.023432'"
      ]
     },
     "metadata": {},
     "output_type": "display_data"
    },
    {
     "data": {
      "text/plain": [
       "'* loss batch 0.021313 epoch 0.023872'"
      ]
     },
     "metadata": {},
     "output_type": "display_data"
    },
    {
     "ename": "KeyboardInterrupt",
     "evalue": "",
     "output_type": "error",
     "traceback": [
      "\u001b[0;31m---------------------------------------------------------------------------\u001b[0m",
      "\u001b[0;31mKeyboardInterrupt\u001b[0m                         Traceback (most recent call last)",
      "Cell \u001b[0;32mIn[81], line 1\u001b[0m\n\u001b[0;32m----> 1\u001b[0m reg_hist, cdiv_hist, loss_hist \u001b[38;5;241m=\u001b[39m \u001b[43mEBM_train\u001b[49m\u001b[43m(\u001b[49m\u001b[43mmodel\u001b[49m\u001b[43m,\u001b[49m\u001b[43m \u001b[49m\n\u001b[1;32m      2\u001b[0m \u001b[43m          \u001b[49m\u001b[43mdevice\u001b[49m\u001b[43m,\u001b[49m\u001b[43m \u001b[49m\n\u001b[1;32m      3\u001b[0m \u001b[43m          \u001b[49m\u001b[43mdataloader\u001b[49m\u001b[43m,\u001b[49m\u001b[43m \u001b[49m\n\u001b[1;32m      4\u001b[0m \u001b[43m          \u001b[49m\u001b[43moptimizer\u001b[49m\u001b[43m,\u001b[49m\n\u001b[1;32m      5\u001b[0m \u001b[43m          \u001b[49m\u001b[43mepochs\u001b[49m\u001b[43m \u001b[49m\u001b[38;5;241;43m=\u001b[39;49m\u001b[43m \u001b[49m\u001b[38;5;241;43m20\u001b[39;49m\u001b[43m,\u001b[49m\n\u001b[1;32m      6\u001b[0m \u001b[43m          \u001b[49m\u001b[43msampler\u001b[49m\u001b[43m \u001b[49m\u001b[38;5;241;43m=\u001b[39;49m\u001b[43m \u001b[49m\u001b[43msampler\u001b[49m\u001b[43m,\u001b[49m\n\u001b[1;32m      7\u001b[0m \u001b[43m          \u001b[49m\u001b[43msampler_iters\u001b[49m\u001b[43m \u001b[49m\u001b[38;5;241;43m=\u001b[39;49m\u001b[43m \u001b[49m\u001b[38;5;241;43m60\u001b[39;49m\u001b[43m,\u001b[49m\n\u001b[1;32m      8\u001b[0m \u001b[43m          \u001b[49m\u001b[43msampler_step_size\u001b[49m\u001b[43m \u001b[49m\u001b[38;5;241;43m=\u001b[39;49m\u001b[43m \u001b[49m\u001b[38;5;241;43m10\u001b[39;49m\u001b[43m,\u001b[49m\n\u001b[1;32m      9\u001b[0m \u001b[43m          \u001b[49m\u001b[43malpha\u001b[49m\u001b[43m \u001b[49m\u001b[38;5;241;43m=\u001b[39;49m\u001b[43m \u001b[49m\u001b[38;5;241;43m0.2\u001b[39;49m\u001b[43m,\u001b[49m\u001b[43m \u001b[49m\n\u001b[1;32m     10\u001b[0m \u001b[43m          \u001b[49m\u001b[43mscheduler\u001b[49m\u001b[43m \u001b[49m\u001b[38;5;241;43m=\u001b[39;49m\u001b[43m \u001b[49m\u001b[43mscheduler\u001b[49m\u001b[43m,\u001b[49m\n\u001b[1;32m     11\u001b[0m \u001b[43m          \u001b[49m\u001b[43mmax_batches\u001b[49m\u001b[43m \u001b[49m\u001b[38;5;241;43m=\u001b[39;49m\u001b[43m \u001b[49m\u001b[38;5;28;43;01mNone\u001b[39;49;00m\u001b[43m)\u001b[49m\n",
      "Cell \u001b[0;32mIn[75], line 22\u001b[0m, in \u001b[0;36mEBM_train\u001b[0;34m(model, device, dataloader, optimizer, epochs, sampler, sampler_iters, sampler_step_size, alpha, scheduler, max_batches)\u001b[0m\n\u001b[1;32m     18\u001b[0m cdiv_hist \u001b[38;5;241m=\u001b[39m []\n\u001b[1;32m     20\u001b[0m \u001b[38;5;28;01mfor\u001b[39;00m epoch \u001b[38;5;129;01min\u001b[39;00m \u001b[38;5;28mrange\u001b[39m(\u001b[38;5;241m1\u001b[39m, epochs \u001b[38;5;241m+\u001b[39m \u001b[38;5;241m1\u001b[39m):\n\u001b[0;32m---> 22\u001b[0m     epoch_reg, epoch_cdiv, epoch_loss \u001b[38;5;241m=\u001b[39m \u001b[43mEBM_train_one_epoch\u001b[49m\u001b[43m(\u001b[49m\n\u001b[1;32m     23\u001b[0m \u001b[43m      \u001b[49m\u001b[43mmodel\u001b[49m\u001b[43m \u001b[49m\u001b[38;5;241;43m=\u001b[39;49m\u001b[43m \u001b[49m\u001b[43mmodel\u001b[49m\u001b[43m,\u001b[49m\u001b[43m \u001b[49m\n\u001b[1;32m     24\u001b[0m \u001b[43m      \u001b[49m\u001b[43mdevice\u001b[49m\u001b[43m \u001b[49m\u001b[38;5;241;43m=\u001b[39;49m\u001b[43m \u001b[49m\u001b[43mdevice\u001b[49m\u001b[43m,\u001b[49m\u001b[43m \u001b[49m\n\u001b[1;32m     25\u001b[0m \u001b[43m      \u001b[49m\u001b[43mdataloader\u001b[49m\u001b[43m \u001b[49m\u001b[38;5;241;43m=\u001b[39;49m\u001b[43m \u001b[49m\u001b[43mdataloader\u001b[49m\u001b[43m,\u001b[49m\u001b[43m \u001b[49m\n\u001b[1;32m     26\u001b[0m \u001b[43m      \u001b[49m\u001b[43moptimizer\u001b[49m\u001b[43m \u001b[49m\u001b[38;5;241;43m=\u001b[39;49m\u001b[43m \u001b[49m\u001b[43moptimizer\u001b[49m\u001b[43m,\u001b[49m\u001b[43m \u001b[49m\n\u001b[1;32m     27\u001b[0m \u001b[43m      \u001b[49m\u001b[43mepoch\u001b[49m\u001b[43m \u001b[49m\u001b[38;5;241;43m=\u001b[39;49m\u001b[43m \u001b[49m\u001b[43mepoch\u001b[49m\u001b[43m,\u001b[49m\n\u001b[1;32m     28\u001b[0m \u001b[43m      \u001b[49m\u001b[43msampler\u001b[49m\u001b[43m \u001b[49m\u001b[38;5;241;43m=\u001b[39;49m\u001b[43m \u001b[49m\u001b[43msampler\u001b[49m\u001b[43m,\u001b[49m\n\u001b[1;32m     29\u001b[0m \u001b[43m      \u001b[49m\u001b[43msampler_iters\u001b[49m\u001b[43m \u001b[49m\u001b[38;5;241;43m=\u001b[39;49m\u001b[43m \u001b[49m\u001b[43msampler_iters\u001b[49m\u001b[43m,\u001b[49m\n\u001b[1;32m     30\u001b[0m \u001b[43m      \u001b[49m\u001b[43msampler_step_size\u001b[49m\u001b[43m \u001b[49m\u001b[38;5;241;43m=\u001b[39;49m\u001b[43m \u001b[49m\u001b[43msampler_step_size\u001b[49m\u001b[43m,\u001b[49m\n\u001b[1;32m     31\u001b[0m \u001b[43m      \u001b[49m\u001b[43malpha\u001b[49m\u001b[43m \u001b[49m\u001b[38;5;241;43m=\u001b[39;49m\u001b[43m \u001b[49m\u001b[43malpha\u001b[49m\u001b[43m,\u001b[49m\u001b[43m \u001b[49m\n\u001b[1;32m     32\u001b[0m \u001b[43m      \u001b[49m\u001b[43mmax_batches\u001b[49m\u001b[43m \u001b[49m\u001b[38;5;241;43m=\u001b[39;49m\u001b[43m \u001b[49m\u001b[43mmax_batches\u001b[49m\u001b[43m)\u001b[49m\n\u001b[1;32m     34\u001b[0m     \u001b[38;5;28;01mif\u001b[39;00m scheduler:\n\u001b[1;32m     35\u001b[0m         \u001b[38;5;66;03m#adjusting LR is necessary\u001b[39;00m\n\u001b[1;32m     36\u001b[0m         scheduler\u001b[38;5;241m.\u001b[39mstep()\n",
      "Cell \u001b[0;32mIn[56], line 50\u001b[0m, in \u001b[0;36mEBM_train_one_epoch\u001b[0;34m(model, device, dataloader, optimizer, epoch, sampler, sampler_iters, sampler_step_size, alpha, max_batches)\u001b[0m\n\u001b[1;32m     46\u001b[0m \u001b[38;5;66;03m#noise = torch.randn_like(real_images) * math.sqrt(eta)\u001b[39;00m\n\u001b[1;32m     48\u001b[0m real_images\u001b[38;5;241m.\u001b[39madd_(noise)\u001b[38;5;241m.\u001b[39mclamp_(\u001b[38;5;28mmin\u001b[39m\u001b[38;5;241m=\u001b[39m\u001b[38;5;241m-\u001b[39m\u001b[38;5;241m1.0\u001b[39m, \u001b[38;5;28mmax\u001b[39m\u001b[38;5;241m=\u001b[39m\u001b[38;5;241m1.0\u001b[39m)\n\u001b[0;32m---> 50\u001b[0m fake_images \u001b[38;5;241m=\u001b[39m \u001b[43msampler\u001b[49m\u001b[38;5;241;43m.\u001b[39;49m\u001b[43mtrain_sample\u001b[49m\u001b[43m(\u001b[49m\u001b[43mmodel\u001b[49m\u001b[43m \u001b[49m\u001b[38;5;241;43m=\u001b[39;49m\u001b[43m \u001b[49m\u001b[43mmodel\u001b[49m\u001b[43m,\u001b[49m\n\u001b[1;32m     51\u001b[0m \u001b[43m                                 \u001b[49m\u001b[43miters\u001b[49m\u001b[43m \u001b[49m\u001b[38;5;241;43m=\u001b[39;49m\u001b[43m \u001b[49m\u001b[43msampler_iters\u001b[49m\u001b[43m,\u001b[49m\u001b[43m \u001b[49m\n\u001b[1;32m     52\u001b[0m \u001b[43m                                 \u001b[49m\u001b[43mstep_size\u001b[49m\u001b[43m \u001b[49m\u001b[38;5;241;43m=\u001b[39;49m\u001b[43m \u001b[49m\u001b[43msampler_step_size\u001b[49m\u001b[43m,\u001b[49m\u001b[43m \u001b[49m\n\u001b[1;32m     53\u001b[0m \u001b[43m                                 \u001b[49m\u001b[43mdevice\u001b[49m\u001b[43m \u001b[49m\u001b[38;5;241;43m=\u001b[39;49m\u001b[43m \u001b[49m\u001b[43mdevice\u001b[49m\u001b[43m)\u001b[49m\n\u001b[1;32m     55\u001b[0m images \u001b[38;5;241m=\u001b[39m torch\u001b[38;5;241m.\u001b[39mcat([real_images, fake_images], dim \u001b[38;5;241m=\u001b[39m \u001b[38;5;241m0\u001b[39m)\n\u001b[1;32m     57\u001b[0m optimizer\u001b[38;5;241m.\u001b[39mzero_grad()\n",
      "Cell \u001b[0;32mIn[54], line 45\u001b[0m, in \u001b[0;36mEBMSampler.train_sample\u001b[0;34m(self, model, num_new, iters, step_size, device)\u001b[0m\n\u001b[1;32m     38\u001b[0m \u001b[38;5;66;03m# Perform MCMC sampling\u001b[39;00m\n\u001b[1;32m     39\u001b[0m images \u001b[38;5;241m=\u001b[39m \u001b[38;5;28mself\u001b[39m\u001b[38;5;241m.\u001b[39mlangevine_dynamics_sample(model,\n\u001b[1;32m     40\u001b[0m                      images, \n\u001b[1;32m     41\u001b[0m                      iters \u001b[38;5;241m=\u001b[39m iters, \n\u001b[1;32m     42\u001b[0m                      step_size \u001b[38;5;241m=\u001b[39m step_size, \n\u001b[1;32m     43\u001b[0m                      device \u001b[38;5;241m=\u001b[39m device)\n\u001b[0;32m---> 45\u001b[0m \u001b[38;5;28mself\u001b[39m\u001b[38;5;241m.\u001b[39mbuffer \u001b[38;5;241m=\u001b[39m \u001b[38;5;28mlist\u001b[39m(\u001b[43mimages\u001b[49m\u001b[38;5;241;43m.\u001b[39;49m\u001b[43mto\u001b[49m\u001b[43m(\u001b[49m\u001b[43mtorch\u001b[49m\u001b[38;5;241;43m.\u001b[39;49m\u001b[43mdevice\u001b[49m\u001b[43m(\u001b[49m\u001b[38;5;124;43m\"\u001b[39;49m\u001b[38;5;124;43mcpu\u001b[39;49m\u001b[38;5;124;43m\"\u001b[39;49m\u001b[43m)\u001b[49m\u001b[43m)\u001b[49m\u001b[38;5;241m.\u001b[39mchunk(\u001b[38;5;28mself\u001b[39m\u001b[38;5;241m.\u001b[39msample_size, dim\u001b[38;5;241m=\u001b[39m\u001b[38;5;241m0\u001b[39m)) \u001b[38;5;241m+\u001b[39m \u001b[38;5;28mself\u001b[39m\u001b[38;5;241m.\u001b[39mbuffer\n\u001b[1;32m     46\u001b[0m \u001b[38;5;28mself\u001b[39m\u001b[38;5;241m.\u001b[39mbuffer \u001b[38;5;241m=\u001b[39m \u001b[38;5;28mself\u001b[39m\u001b[38;5;241m.\u001b[39mbuffer[:\u001b[38;5;28mself\u001b[39m\u001b[38;5;241m.\u001b[39mbuffer_len]\n\u001b[1;32m     48\u001b[0m \u001b[38;5;28;01mreturn\u001b[39;00m images\n",
      "\u001b[0;31mKeyboardInterrupt\u001b[0m: "
     ]
    }
   ],
   "source": [
    "reg_hist, cdiv_hist, loss_hist = EBM_train(model, \n",
    "          device, \n",
    "          dataloader, \n",
    "          optimizer,\n",
    "          epochs = 20,\n",
    "          sampler = sampler,\n",
    "          sampler_iters = 60,\n",
    "          sampler_step_size = 10,\n",
    "          alpha = 0.2, \n",
    "          scheduler = scheduler,\n",
    "          max_batches = None)"
   ]
  },
  {
   "cell_type": "code",
   "execution_count": 105,
   "id": "cf2fce96-5aa3-458e-898a-13ac74cf0861",
   "metadata": {
    "tags": []
   },
   "outputs": [
    {
     "data": {
      "image/png": "[encoded data removed]",
      "text/plain": [
       "<Figure size 1600x1600 with 1 Axes>"
      ]
     },
     "metadata": {},
     "output_type": "display_data"
    }
   ],
   "source": [
    "generate_samples(model, \n",
    "                 sampler,\n",
    "                 iters = 80,\n",
    "                 step_size = 100,\n",
    "                 num_samples = 16, \n",
    "                 image_size = (1, 28, 28),\n",
    "                 device = device)"
   ]
  },
  {
   "cell_type": "markdown",
   "id": "ca459683-220a-4d4d-84e2-e2274ba24c43",
   "metadata": {},
   "source": [
    "# Image denoising with Langevine dynamics equation"
   ]
  },
  {
   "cell_type": "code",
   "execution_count": 106,
   "id": "0b923bd9-1718-4b23-bc06-dea0e9670bb9",
   "metadata": {
    "tags": []
   },
   "outputs": [],
   "source": [
    "def denoise_samples(model, \n",
    "                    images,\n",
    "                    sampler,\n",
    "                    iters = 60,\n",
    "                    step_size = 10,\n",
    "                    num_samples = 16, \n",
    "                    image_size = (1, 28, 28),\n",
    "                    device = torch.device(\"cpu\")):\n",
    "    model.eval()\n",
    "    model.to(device)\n",
    "\n",
    "    for p in model.parameters():\n",
    "        p.requires_grad = False\n",
    "\n",
    "    \n",
    "    images = sampler.langevine_dynamics_sample( \n",
    "               model,\n",
    "               images, \n",
    "               iters = iters, \n",
    "               step_size = step_size, \n",
    "               return_images_per_step = False,\n",
    "               device = device)\n",
    "\n",
    "    for p in model.parameters():\n",
    "        p.requires_grad = True\n",
    "        \n",
    "    images = images.cpu().detach()\n",
    "    #images.shape\n",
    "    \n",
    "    #visualize\n",
    "    images = images[0:16]\n",
    "\n",
    "    images = (images + 1) / 2\n",
    "\n",
    "    #create grid with size by nrows x ncols\n",
    "    img_grid = make_grid(tensor = images, \n",
    "                     nrow = 8, \n",
    "                     padding = 1, \n",
    "                     pad_value = 1)\n",
    "\n",
    "    #conver to channel last\n",
    "    img_grid = img_grid.permute(1,2,0)\n",
    "\n",
    "    plt.figure(figsize=(16, 16))\n",
    "    plt.imshow(img_grid)\n",
    "    plt.axis('off')\n",
    "    plt.show()   "
   ]
  },
  {
   "cell_type": "code",
   "execution_count": 131,
   "id": "46a615ba-72c3-4139-bd4e-37e95234f483",
   "metadata": {
    "tags": []
   },
   "outputs": [
    {
     "data": {
      "text/plain": [
       "torch.Size([16, 1, 28, 28])"
      ]
     },
     "execution_count": 131,
     "metadata": {},
     "output_type": "execute_result"
    }
   ],
   "source": [
    "images, _ = next(iter(dataloader))\n",
    "images = images[0:16]\n",
    "images.shape"
   ]
  },
  {
   "cell_type": "code",
   "execution_count": 133,
   "id": "86ed6bcc-663d-43e7-89ee-f3b28be7ce95",
   "metadata": {
    "tags": []
   },
   "outputs": [
    {
     "data": {
      "image/png": "[encoded data removed]",
      "text/plain": [
       "<Figure size 1600x1600 with 1 Axes>"
      ]
     },
     "metadata": {},
     "output_type": "display_data"
    }
   ],
   "source": [
    "plot_images(images)"
   ]
  },
  {
   "cell_type": "code",
   "execution_count": 140,
   "id": "f4259eb4-3058-4cbd-a5a1-d3d2ede0002b",
   "metadata": {
    "tags": []
   },
   "outputs": [
    {
     "data": {
      "text/plain": [
       "torch.Size([16, 1, 28, 28])"
      ]
     },
     "execution_count": 140,
     "metadata": {},
     "output_type": "execute_result"
    }
   ],
   "source": [
    "noise = torch.zeros_like(images)\n",
    "noise.normal_(0, 1)\n",
    "#noise = torch.rand(images.size())\n",
    "noise = torch.randn(images.size())\n",
    "images.data.add_(noise.data)\n",
    "#noise_images = images + noise\n",
    "noise_images = images.data.clamp_(min=-1.0, max=1.0)\n",
    "noise_images.shape"
   ]
  },
  {
   "cell_type": "code",
   "execution_count": 141,
   "id": "5733e4ed-0531-46f1-9f13-107d69a5596d",
   "metadata": {
    "tags": []
   },
   "outputs": [
    {
     "data": {
      "image/png": "[encoded data removed]",
      "text/plain": [
       "<Figure size 1600x1600 with 1 Axes>"
      ]
     },
     "metadata": {},
     "output_type": "display_data"
    }
   ],
   "source": [
    "plot_images(noise_images)"
   ]
  },
  {
   "cell_type": "code",
   "execution_count": 142,
   "id": "42b8bfee-de9f-44d2-86d2-accc51f0b250",
   "metadata": {
    "tags": []
   },
   "outputs": [
    {
     "data": {
      "image/png": "[encoded data removed]",
      "text/plain": [
       "<Figure size 1600x1600 with 1 Axes>"
      ]
     },
     "metadata": {},
     "output_type": "display_data"
    }
   ],
   "source": [
    "denoise_samples(model, \n",
    "                noise_images,\n",
    "                sampler,\n",
    "                    iters = 200,\n",
    "                    step_size = 10,\n",
    "                    num_samples = 16, \n",
    "                    image_size = (1, 28, 28),\n",
    "                    device = device)"
   ]
  },
  {
   "cell_type": "code",
   "execution_count": null,
   "id": "7cf1c8fa-5844-4a20-8abc-a386b13586bb",
   "metadata": {},
   "outputs": [],
   "source": []
  }
 ],
 "metadata": {
  "kernelspec": {
   "display_name": "Python 3 (ipykernel)",
   "language": "python",
   "name": "python3"
  },
  "language_info": {
   "codemirror_mode": {
    "name": "ipython",
    "version": 3
   },
   "file_extension": ".py",
   "mimetype": "text/x-python",
   "name": "python",
   "nbconvert_exporter": "python",
   "pygments_lexer": "ipython3",
   "version": "3.11.2"
  }
 },
 "nbformat": 4,
 "nbformat_minor": 5
}
